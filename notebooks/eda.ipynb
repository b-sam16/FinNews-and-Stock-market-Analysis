{
 "cells": [
  {
   "cell_type": "code",
   "execution_count": 3,
   "metadata": {},
   "outputs": [],
   "source": [
    "# Import necessary libraries\n",
    "import pandas as pd\n",
    "from textblob import TextBlob\n",
    "import matplotlib.pyplot as plt\n",
    "import seaborn as sns \n",
    "import nltk\n",
    "from sklearn.feature_extraction.text import TfidfVectorizer\n",
    "from sklearn.decomposition import LatentDirichletAllocation\n",
    "from sklearn.feature_extraction.text import CountVectorizer\n",
    "from nltk.corpus import stopwords"
   ]
  },
  {
   "cell_type": "code",
   "execution_count": null,
   "metadata": {},
   "outputs": [],
   "source": [
    "# Load the Financial news dataset\n",
    "news_data = pd.read_csv(\"../data/Raw_analyst_ratings.csv\")\n",
    "\n",
    "# View structure of the data\n",
    "print(news_data.info())\n",
    "print(news_data.head())\n",
    "\n",
    "news_data = news_data.dropna(subset=['headline', 'stock'])"
   ]
  },
  {
   "cell_type": "code",
   "execution_count": null,
   "metadata": {},
   "outputs": [],
   "source": [
    "# Headline length\n",
    "news_data['headline_length'] = news_data['headline'].apply(len)\n",
    "print(news_data['headline_length'].describe())\n",
    "\n",
    "# Articles per publisher\n",
    "publisher_counts = news_data['publisher'].value_counts()\n",
    "print(\"Articles per Publisher:\")\n",
    "print(publisher_counts)\n",
    "\n",
    "# Assuming 'news_data' is already loaded with the necessary data\n",
    "\n",
    "# Ensure the 'date' column is of datetime type\n",
    "news_data['date'] = pd.to_datetime(news_data['date'], errors='coerce')\n",
    "\n",
    "# Check if the 'date' column has timezone information and remove it\n",
    "if news_data['date'].dt.tz is not None:\n",
    "    # Remove timezone information if it exists\n",
    "    news_data['date'] = news_data['date'].dt.tz_localize(None)\n",
    "\n",
    "# Extract the publication date without time for easier analysis\n",
    "news_data['publication_date'] = news_data['date'].dt.date\n",
    "\n",
    "# Count the number of articles published each day\n",
    "articles_per_day = news_data['publication_date'].value_counts().sort_index()\n",
    "\n",
    "print(\"Articles per Day:\")\n",
    "print(articles_per_day)\n",
    "\n",
    "# Plot publication frequency over time\n",
    "plt.figure(figsize=(10, 6))\n",
    "articles_per_day.plot(kind='line', color='b')\n",
    "plt.title(\"Number of Articles Published Over Time\")\n",
    "plt.xlabel(\"Date\")\n",
    "plt.ylabel(\"Number of Articles\")\n",
    "plt.xticks(rotation=45)\n",
    "plt.show()"
   ]
  },
  {
   "cell_type": "code",
   "execution_count": null,
   "metadata": {},
   "outputs": [],
   "source": [
    "# Perform sentiment analysis\n",
    "def categorize_sentiment(text):\n",
    "    polarity = TextBlob(text).sentiment.polarity\n",
    "    if polarity > 0:\n",
    "        return \"Positive\"\n",
    "    elif polarity < 0:\n",
    "        return \"Negative\"\n",
    "    else:\n",
    "        return \"Neutral\"\n",
    "\n",
    "news_data['sentiment_category'] = news_data['headline'].apply(categorize_sentiment)\n",
    "\n",
    "# Display sentiment category counts\n",
    "sentiment_counts = news_data['sentiment_category'].value_counts()\n",
    "print(sentiment_counts)\n",
    "\n",
    "# Plot sentiment distribution\n",
    "plt.figure(figsize=(8, 6))\n",
    "sns.barplot(x=sentiment_counts.index, y=sentiment_counts.values, palette=\"viridis\")\n",
    "plt.title(\"Distribution of Sentiment Categories\")\n",
    "plt.xlabel(\"Sentiment Score\")\n",
    "plt.ylabel(\"Count\")\n",
    "plt.show()"
   ]
  },
  {
   "cell_type": "code",
   "execution_count": 1,
   "metadata": {},
   "outputs": [
    {
     "ename": "NameError",
     "evalue": "name 'news_data' is not defined",
     "output_type": "error",
     "traceback": [
      "\u001b[1;31m---------------------------------------------------------------------------\u001b[0m",
      "\u001b[1;31mNameError\u001b[0m                                 Traceback (most recent call last)",
      "Cell \u001b[1;32mIn[1], line 2\u001b[0m\n\u001b[0;32m      1\u001b[0m \u001b[38;5;66;03m# Topic Modeling (Common Keywords)\u001b[39;00m\n\u001b[1;32m----> 2\u001b[0m \u001b[38;5;28;01mif\u001b[39;00m \u001b[38;5;124m'\u001b[39m\u001b[38;5;124mheadline\u001b[39m\u001b[38;5;124m'\u001b[39m \u001b[38;5;129;01min\u001b[39;00m \u001b[43mnews_data\u001b[49m\u001b[38;5;241m.\u001b[39mcolumns:\n\u001b[0;32m      3\u001b[0m     vectorizer \u001b[38;5;241m=\u001b[39m CountVectorizer(max_features\u001b[38;5;241m=\u001b[39m\u001b[38;5;241m10\u001b[39m, stop_words\u001b[38;5;241m=\u001b[39m\u001b[38;5;124m'\u001b[39m\u001b[38;5;124menglish\u001b[39m\u001b[38;5;124m'\u001b[39m)\n\u001b[0;32m      4\u001b[0m     X \u001b[38;5;241m=\u001b[39m vectorizer\u001b[38;5;241m.\u001b[39mfit_transform(news_data[\u001b[38;5;124m'\u001b[39m\u001b[38;5;124mheadline\u001b[39m\u001b[38;5;124m'\u001b[39m]\u001b[38;5;241m.\u001b[39mdropna())\n",
      "\u001b[1;31mNameError\u001b[0m: name 'news_data' is not defined"
     ]
    }
   ],
   "source": [
    "# Topic Modeling (Common Keywords)\n",
    "if 'headline' in news_data.columns:\n",
    "    vectorizer = CountVectorizer(max_features=10, stop_words='english')\n",
    "    X = vectorizer.fit_transform(news_data['headline'].dropna())\n",
    "    print(\"\\nTop Keywords:\")\n",
    "    print(vectorizer.get_feature_names_out())\n",
    "else:\n",
    "    print(\"Error: The dataset does not contain a 'headline' column.\")"
   ]
  },
  {
   "cell_type": "code",
   "execution_count": null,
   "metadata": {},
   "outputs": [],
   "source": [
    "# Top publishers\n",
    "top_publishers = news_data['publisher'].value_counts().head(10)\n",
    "top_publishers.plot(kind='bar', title=\"Top 10 Publishers\", figsize=(10, 5))\n",
    "plt.show()\n",
    "\n",
    "# Analyze domains if email addresses are used as publishers\n",
    "news_data['domain'] = news_data['publisher'].str.split('@').str[-1]\n",
    "domain_counts = news_data['domain'].value_counts()\n",
    "print(domain_counts)\n"
   ]
  }
 ],
 "metadata": {
  "kernelspec": {
   "display_name": "env",
   "language": "python",
   "name": "python3"
  },
  "language_info": {
   "codemirror_mode": {
    "name": "ipython",
    "version": 3
   },
   "file_extension": ".py",
   "mimetype": "text/x-python",
   "name": "python",
   "nbconvert_exporter": "python",
   "pygments_lexer": "ipython3",
   "version": "3.10.5"
  }
 },
 "nbformat": 4,
 "nbformat_minor": 2
}
