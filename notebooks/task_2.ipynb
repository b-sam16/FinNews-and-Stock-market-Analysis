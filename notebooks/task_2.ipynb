{
 "cells": [
  {
   "cell_type": "code",
   "execution_count": 1,
   "metadata": {},
   "outputs": [],
   "source": [
    "# Import required libraries and functions\n",
    "import sys\n",
    "sys.path.append('../src')\n",
    "import pandas as pd\n",
    "import matplotlib.pyplot as plt\n",
    "\n",
    "# Import custom functions from provided modules\n",
    "from data_preprocessing import preprocess_stock_data\n",
    "from technical_Indicators import calculate_technical_indicators\n",
    "from visualization import plot_stock_prices, plot_moving_average, plot_rsi, plot_macd, plot_stock_with_indicators\n"
   ]
  },
  {
   "cell_type": "code",
   "execution_count": 2,
   "metadata": {},
   "outputs": [
    {
     "data": {
      "text/plain": [
       "dict_keys(['AAPL', 'AMZN', 'GOOG', 'META', 'MSFT', 'NVDA', 'TSLA'])"
      ]
     },
     "execution_count": 2,
     "metadata": {},
     "output_type": "execute_result"
    }
   ],
   "source": [
    "# Load and preprocess stock data\n",
    "stock_data = preprocess_stock_data()\n",
    "\n",
    "# Check the keys in stock_data to confirm the tickers are loaded correctly\n",
    "stock_data.keys()\n"
   ]
  },
  {
   "cell_type": "code",
   "execution_count": null,
   "metadata": {},
   "outputs": [
    {
     "ename": "NameError",
     "evalue": "name 'stock_data' is not defined",
     "output_type": "error",
     "traceback": [
      "\u001b[1;31m---------------------------------------------------------------------------\u001b[0m",
      "\u001b[1;31mNameError\u001b[0m                                 Traceback (most recent call last)",
      "Cell \u001b[1;32mIn[1], line 3\u001b[0m\n\u001b[0;32m      1\u001b[0m \u001b[38;5;66;03m# Loop through each stock ticker and generate visualizations\u001b[39;00m\n\u001b[1;32m----> 3\u001b[0m \u001b[38;5;28;01mfor\u001b[39;00m ticker \u001b[38;5;129;01min\u001b[39;00m \u001b[43mstock_data\u001b[49m\u001b[38;5;241m.\u001b[39mkeys():\n\u001b[0;32m      4\u001b[0m     \u001b[38;5;28mprint\u001b[39m(\u001b[38;5;124mf\u001b[39m\u001b[38;5;124m\"\u001b[39m\u001b[38;5;124mVisualizing data for \u001b[39m\u001b[38;5;132;01m{\u001b[39;00mticker\u001b[38;5;132;01m}\u001b[39;00m\u001b[38;5;124m...\u001b[39m\u001b[38;5;124m\"\u001b[39m)\n\u001b[0;32m      6\u001b[0m     \u001b[38;5;66;03m# Stock Prices Over Time\u001b[39;00m\n",
      "\u001b[1;31mNameError\u001b[0m: name 'stock_data' is not defined"
     ]
    }
   ],
   "source": [
    "# Loop through each stock ticker and generate visualizations\n",
    "\n",
    "for ticker in stock_data.keys():\n",
    "    print(f\"Visualizing data for {ticker}...\")\n",
    "    \n",
    "    # Stock Prices Over Time\n",
    "    plot_stock_prices(stock_data, ticker)\n",
    "\n",
    "    # Stock Prices with Moving Average (20-day)\n",
    "    plot_moving_average(stock_data, ticker, window=20)\n",
    "\n",
    "    # RSI for the ticker\n",
    "    plot_rsi(stock_data, ticker)\n",
    "\n",
    "    # MACD for the ticker\n",
    "    plot_macd(stock_data, ticker)\n",
    "\n",
    "    # Stock with all indicators (Moving Average, RSI, and MACD)\n",
    "    plot_stock_with_indicators(stock_data, ticker)\n"
   ]
  }
 ],
 "metadata": {
  "kernelspec": {
   "display_name": "env",
   "language": "python",
   "name": "python3"
  },
  "language_info": {
   "codemirror_mode": {
    "name": "ipython",
    "version": 3
   },
   "file_extension": ".py",
   "mimetype": "text/x-python",
   "name": "python",
   "nbconvert_exporter": "python",
   "pygments_lexer": "ipython3",
   "version": "3.10.5"
  }
 },
 "nbformat": 4,
 "nbformat_minor": 2
}
